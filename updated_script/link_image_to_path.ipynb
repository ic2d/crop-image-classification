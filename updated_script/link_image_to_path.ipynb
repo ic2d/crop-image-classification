{
 "cells": [
  {
   "cell_type": "code",
   "execution_count": null,
   "metadata": {},
   "outputs": [],
   "source": [
    "import pandas as pd"
   ]
  },
  {
   "cell_type": "code",
   "execution_count": null,
   "metadata": {},
   "outputs": [],
   "source": [
    "hard_images_df = pd.read_csv(\"../data/hardImages_dataset1.csv\")\n",
    "hard_images_df.drop(\"Unnamed: 0\", axis = 1, inplace = True)\n",
    "\n",
    "header_list = list(hard_images_df.columns)\n",
    "header_list.append(\"image_path\")\n",
    "hard_images_df = hard_images_df.reindex(columns = header_list)\n",
    "\n",
    "hard_images_df.head()"
   ]
  },
  {
   "cell_type": "code",
   "execution_count": null,
   "metadata": {},
   "outputs": [],
   "source": [
    "dataset_1_df = pd.read_csv(\"./input/dataset_1.csv\", sep = \";\")\n",
    "dataset_1_df.head()"
   ]
  },
  {
   "cell_type": "code",
   "execution_count": null,
   "metadata": {},
   "outputs": [],
   "source": [
    "for index, image in hard_images_df.iterrows():\n",
    "    print(image[\"df_index\"])\n",
    "    print(dataset_1_df.iloc[image[\"df_index\"]])\n",
    "    print()\n",
    "    hard_images_df.at[index, \"image_path\"] = dataset_1_df.iloc[image[\"df_index\"]][\"im_path\"].replace(\"../\", \"\")\n",
    "hard_images_df"
   ]
  },
  {
   "cell_type": "code",
   "execution_count": null,
   "metadata": {},
   "outputs": [],
   "source": [
    "hard_images_df.to_csv(\"../data/hardImages_dataset1_withPath.csv\", index = None)"
   ]
  }
 ],
 "metadata": {
  "kernelspec": {
   "display_name": "venv",
   "language": "python",
   "name": "python3"
  },
  "language_info": {
   "codemirror_mode": {
    "name": "ipython",
    "version": 3
   },
   "file_extension": ".py",
   "mimetype": "text/x-python",
   "name": "python",
   "nbconvert_exporter": "python",
   "pygments_lexer": "ipython3",
   "version": "3.10.6"
  },
  "orig_nbformat": 4
 },
 "nbformat": 4,
 "nbformat_minor": 2
}
